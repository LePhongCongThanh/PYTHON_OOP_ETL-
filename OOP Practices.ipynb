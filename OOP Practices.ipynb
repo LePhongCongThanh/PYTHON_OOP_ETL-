{
 "cells": [
  {
   "cell_type": "code",
   "execution_count": 1,
   "id": "3fd4c357",
   "metadata": {},
   "outputs": [],
   "source": [
    "#Create a Vehicle class without any variables and methods a\n",
    "class a:\n",
    "    pass"
   ]
  },
  {
   "cell_type": "code",
   "execution_count": 2,
   "id": "a98aea64",
   "metadata": {},
   "outputs": [],
   "source": [
    "class Vehicle:\n",
    "\n",
    "    def __init__(self, name, max_speed, mileage):\n",
    "        self.name = name\n",
    "        self.max_speed = max_speed\n",
    "        self.mileage = mileage\n",
    "    def seating_capacity(self, capacity ):\n",
    "        return print(f'the seating capacity of {self.name} is {capacity} passengers')"
   ]
  },
  {
   "cell_type": "code",
   "execution_count": 3,
   "id": "9bd373f9",
   "metadata": {},
   "outputs": [
    {
     "name": "stdout",
     "output_type": "stream",
     "text": [
      "name of bus is Audi\n",
      "5.0\n",
      "the seating capacity of Audi is 50 passengers\n"
     ]
    }
   ],
   "source": [
    "\n",
    "# Create a child class Bus that will inherit all of the variables and methods of the Vehicle class\n",
    "class Bus(Vehicle):\n",
    "   pass\n",
    "#attached object\n",
    "schoolbus = Bus('Audi',200,1000)\n",
    "print('name of bus is',schoolbus.name)\n",
    "print(schoolbus.mileage/schoolbus.max_speed)\n",
    "schoolbus.seating_capacity(capacity = 50)"
   ]
  },
  {
   "cell_type": "code",
   "execution_count": 4,
   "id": "bf34fd83",
   "metadata": {},
   "outputs": [
    {
     "name": "stdout",
     "output_type": "stream",
     "text": [
      "the seating capacity of lambo is 30 passengers\n"
     ]
    }
   ],
   "source": [
    "class bus1(Vehicle):\n",
    "    # assigne default value to capacity without modifying parent class\n",
    "    def seating_capacity(self, capacity = 30): # cai nay la cai khac sau do dung super de ghi de len \n",
    "       return super().seating_capacity(capacity) #super is inherit\n",
    "schoolbus1 = bus1('lambo', 200, 10000)\n",
    "schoolbus1.seating_capacity()"
   ]
  },
  {
   "cell_type": "code",
   "execution_count": 5,
   "id": "5806eeb8",
   "metadata": {},
   "outputs": [
    {
     "name": "stdout",
     "output_type": "stream",
     "text": [
      "white School Volvo Speed: 180 Mileage: 12\n",
      "white Audi Q5 Speed: 240 Mileage: 18\n"
     ]
    }
   ],
   "source": [
    "#Define a property that must have the same value for every class instance\n",
    "\n",
    "class Vehicle:\n",
    "    color ='white'  #class variable, the class variable is shared between all class instances\n",
    "    def __init__(self, name, max_speed, mileage ):\n",
    "        self.name = name   #instance Variable\n",
    "        self.max_speed = max_speed\n",
    "        self.mileage = mileage\n",
    "class Bus(Vehicle):\n",
    "    pass\n",
    "\n",
    "class Car(Vehicle):\n",
    "    pass\n",
    "\n",
    "School_bus = Bus(\"School Volvo\", 180, 12)\n",
    "print(School_bus.color, School_bus.name, \"Speed:\", School_bus.max_speed, \"Mileage:\", School_bus.mileage)\n",
    "\n",
    "car = Car(\"Audi Q5\", 240, 18)\n",
    "print(car.color, car.name, \"Speed:\", car.max_speed, \"Mileage:\", car.mileage)"
   ]
  },
  {
   "cell_type": "code",
   "execution_count": 6,
   "id": "b298639b",
   "metadata": {},
   "outputs": [
    {
     "name": "stdout",
     "output_type": "stream",
     "text": [
      "Total Bus fare is: 5500.0\n"
     ]
    }
   ],
   "source": [
    "class Vehicle:\n",
    "    def __init__(self, name, mileage, capacity):\n",
    "        self.name = name\n",
    "        self.mileage = mileage\n",
    "        self.capacity = capacity\n",
    "\n",
    "    def fare(self):\n",
    "        return self.capacity * 100\n",
    "\n",
    "class Bus(Vehicle):\n",
    "    def fare(self):\n",
    "        amount = super().fare()\n",
    "        amount += amount*10 / 100\n",
    "        return amount \n",
    "    \n",
    "\n",
    "School_bus = Bus(\"School Volvo\", 12, 50)\n",
    "print(\"Total Bus fare is:\", School_bus.fare())"
   ]
  },
  {
   "cell_type": "code",
   "execution_count": 7,
   "id": "188ffce3",
   "metadata": {},
   "outputs": [
    {
     "name": "stdout",
     "output_type": "stream",
     "text": [
      "<class '__main__.Bus'>\n"
     ]
    }
   ],
   "source": [
    "#Write a program to determine which class a given Bus object belongs to.\n",
    "class Vehicle:\n",
    "    def __init__(self, name, mileage, capacity):\n",
    "        self.name = name\n",
    "        self.mileage = mileage\n",
    "        self.capacity = capacity\n",
    "\n",
    "class Bus(Vehicle):\n",
    "      pass\n",
    "School_bus = Bus(\"School Volvo\", 12, 50)\n",
    "print(type(School_bus))"
   ]
  },
  {
   "cell_type": "code",
   "execution_count": 8,
   "id": "c87af2b3",
   "metadata": {},
   "outputs": [
    {
     "name": "stdout",
     "output_type": "stream",
     "text": [
      "True\n"
     ]
    }
   ],
   "source": [
    "# Determine if School_bus is also an instance of the Vehicle class\n",
    "class Vehicle:\n",
    "    def __init__(self, name, mileage, capacity):\n",
    "        self.name = name\n",
    "        self.mileage = mileage\n",
    "        self.capacity = capacity\n",
    "\n",
    "class Bus(Vehicle):\n",
    "    pass\n",
    "\n",
    "School_bus = Bus(\"School Volvo\", 12, 50)\n",
    "\n",
    "# Python's built-in isinstance() function\n",
    "print(isinstance(School_bus, Vehicle))"
   ]
  },
  {
   "cell_type": "code",
   "execution_count": 9,
   "id": "8806b5cb",
   "metadata": {},
   "outputs": [
    {
     "name": "stdout",
     "output_type": "stream",
     "text": [
      "Input the radius of circle: \n"
     ]
    },
    {
     "ename": "ValueError",
     "evalue": "could not convert string to float: ''",
     "output_type": "error",
     "traceback": [
      "\u001b[1;31m---------------------------------------------------------------------------\u001b[0m",
      "\u001b[1;31mValueError\u001b[0m                                Traceback (most recent call last)",
      "Cell \u001b[1;32mIn[9], line 15\u001b[0m\n\u001b[0;32m     12\u001b[0m         perimeter \u001b[38;5;241m=\u001b[39m \u001b[38;5;28mround\u001b[39m(\u001b[38;5;241m2\u001b[39m\u001b[38;5;241m*\u001b[39mm\u001b[38;5;241m.\u001b[39mpi\u001b[38;5;241m*\u001b[39m\u001b[38;5;28mself\u001b[39m\u001b[38;5;241m.\u001b[39mradius,\u001b[38;5;241m2\u001b[39m)\n\u001b[0;32m     13\u001b[0m         \u001b[38;5;28;01mreturn\u001b[39;00m \u001b[38;5;124mf\u001b[39m\u001b[38;5;124m'\u001b[39m\u001b[38;5;124mThe perimeter of circle ís \u001b[39m\u001b[38;5;132;01m{\u001b[39;00mperimeter\u001b[38;5;132;01m}\u001b[39;00m\u001b[38;5;124m'\u001b[39m\n\u001b[1;32m---> 15\u001b[0m radius \u001b[38;5;241m=\u001b[39m \u001b[38;5;28mfloat\u001b[39m(\u001b[38;5;28minput\u001b[39m(\u001b[38;5;124m\"\u001b[39m\u001b[38;5;124mInput the radius of circle: \u001b[39m\u001b[38;5;124m\"\u001b[39m))\n\u001b[0;32m     16\u001b[0m Circle1 \u001b[38;5;241m=\u001b[39m circle(radius)\n\u001b[0;32m     17\u001b[0m \u001b[38;5;28mprint\u001b[39m(Circle1\u001b[38;5;241m.\u001b[39marea())\n",
      "\u001b[1;31mValueError\u001b[0m: could not convert string to float: ''"
     ]
    }
   ],
   "source": [
    "#Write a Python program to create a class representing a Circle. Include methods to calculate its area and perimeter.\n",
    "import math as m\n",
    "\n",
    "class circle:\n",
    "    def __init__(self,radius):\n",
    "        self.radius = radius\n",
    "        \n",
    "    def area(self):\n",
    "        area = round(m.pi*self.radius**2,2)\n",
    "        return f'The area of circle is {area}'\n",
    "    def perimeter(self):\n",
    "        perimeter = round(2*m.pi*self.radius,2)\n",
    "        return f'The perimeter of circle ís {perimeter}'\n",
    "    \n",
    "radius = float(input(\"Input the radius of circle: \"))\n",
    "Circle1 = circle(radius)\n",
    "print(Circle1.area())\n",
    "print(Circle1.perimeter())"
   ]
  },
  {
   "cell_type": "code",
   "execution_count": null,
   "id": "207aa6fb",
   "metadata": {},
   "outputs": [],
   "source": [
    "from datetime import date,datetime\n",
    "import logging\n",
    "logging.basicConfig(\n",
    "     level = logging.INFO,\n",
    "     filename =\"logOOP.log\",\n",
    "     filemode = \"W\",\n",
    "     format=\"%(asctime)s - %(levelname)s - %(message)s\")\n",
    "\n",
    "class biography:\n",
    "    def __init__(self, name, country, dateofbirth):\n",
    "        self.name = name\n",
    "        self.country = country\n",
    "        self.dateofbirth = datetime.strptime(dateofbirth,\"%d%m%Y\")\n",
    "    def age(self):\n",
    "        logging.info(\"========Start Program Biography=======\")\n",
    "        age = datetime.today().year - self.dateofbirth.year\n",
    "        if age < 0:\n",
    "            logging.warning(\"The date of birth is out of current date range\")\n",
    "            logging.info(\"=========End Program========\") \n",
    "            return f'{self.name} is still not born'\n",
    "        logging.info(\"=========End Program========\") \n",
    "        return f'the age of {self.name} is {age}. {self.name} comes from {self.country}'\n",
    "             \n",
    "\n",
    "name  = input('Enter your name here: ')\n",
    "country = input('Enter your country here: ')\n",
    "dateofbirth = input('Enter your date of birth with syntax ddmmyyyy: ')\n",
    "\n",
    "a = biography(name, country, dateofbirth)\n",
    "print(a.age())\n"
   ]
  },
  {
   "cell_type": "code",
   "execution_count": null,
   "id": "bf322e4c",
   "metadata": {},
   "outputs": [],
   "source": [
    "#logging.basicConfig and the class calculator definitions should be at the same indentation level. \n",
    "import logging\n",
    "logging.basicConfig(\n",
    "     level = logging.INFO,\n",
    "     filename =\"logOOP.log\",\n",
    "     filemode = \"W\",\n",
    "     format=\"%(asctime)s - %(levelname)s - %(message)s\")\n",
    "class calculator:\n",
    "    def __init__(self,x,y):\n",
    "        self.x = x\n",
    "        self.y = y\n",
    "    def add(self):\n",
    "        return self.x + self.y\n",
    "    def multiply(self):\n",
    "        return self.x*self.y\n",
    "    def subtract(self):\n",
    "        return self.x-self.y\n",
    "    def divide(self):\n",
    "        if self.y == 0:\n",
    "            logging.error(\"Error: not divided by zero\")\n",
    "            return f'can not be divided by zero'\n",
    "        return round(x / y,2)\n",
    "x = float(input('Enter x: '))\n",
    "y = float(input('Enter y: '))\n",
    "a = calculator(x,y)\n",
    "a.divide() "
   ]
  },
  {
   "cell_type": "code",
   "execution_count": null,
   "id": "c9a2c7ad",
   "metadata": {},
   "outputs": [],
   "source": [
    "#we define a base class called Shape that provides the blueprint for other shapes. \n",
    "#which are overridden by subclasses.\n",
    "import math\n",
    "import logging\n",
    "logging.basicConfig(\n",
    "     level = logging.INFO,\n",
    "     filename = 'logOOP1.log',\n",
    "     filemode = 'w',\n",
    "     format=\"%(asctime)s - %(levelname)s - %(message)s\")\n",
    "class shape:\n",
    "    def area(self):\n",
    "        pass\n",
    "    def perimeter(self):\n",
    "        pass\n",
    "class circle(shape):\n",
    "    def __init__(self,radius):\n",
    "        self.radius = radius\n",
    "    def area(self):\n",
    "        logging.info('======Start program - Caculate Circle Area======= ')\n",
    "        if self.radius < 0:    \n",
    "            logging.error('Radius can not be negative number')\n",
    "            logging.info('=======End Program - Calculate Cicle Area=====')\n",
    "            return 'Radius can not be negative number'\n",
    "        a = round(math.pi*self.radius**2,2)\n",
    "        logging.info('=======End Program - Calculate Cicle Area=====')\n",
    "        return f'The area of Circle is {a}'\n",
    "    def perimeter(self):\n",
    "        logging.info('======Start program - Caculate Circle Perimeter======= ')\n",
    "        if self.radius < 0:    \n",
    "            logging.error('Radius can not be negative number')\n",
    "            logging.info('=======End Program - Calculate Cicle Perimeter=====')\n",
    "            return f'Radius can not be negative number'\n",
    "        a = round(math.pi*self.radius*2,2)\n",
    "        logging.info('=======End Program - Calculate Cicle Perimeter=====')\n",
    "        return f'The Perimeter of Circle is {a}'\n",
    "\n",
    "radius = float(input('Enter the radius: '))\n",
    "Circle = circle(radius)\n",
    "print(Circle.area())\n",
    "print(Circle.perimeter())"
   ]
  },
  {
   "cell_type": "code",
   "execution_count": null,
   "id": "4f37cbae",
   "metadata": {},
   "outputs": [],
   "source": [
    "#Write a Python program to create a class representing a stack data structure.\n",
    "#Include methods for pushing and popping elements.\n",
    "import logging\n",
    "import ast\n",
    "logging.basicConfig(\n",
    "     level = logging.INFO,\n",
    "     filename = 'logOOP.log',\n",
    "     filemode = 'w',\n",
    "     format=\"%(asctime)s - %(levelname)s - %(message)s\")\n",
    "\n",
    "class Stack:\n",
    "    def __init__(self, array):\n",
    "        self.list = list(ast.literal_eval(array)) #cover tuple\n",
    "    def push(self,items):\n",
    "        self.list.append(items)\n",
    "        logging.info('Appended items successfully')\n",
    "        return self.list\n",
    "    def pop(self):\n",
    "        try:\n",
    "            self.list.pop()\n",
    "        except IndexError:\n",
    "            logging.error('pop from empty list')\n",
    "            return f'pop from empty list'\n",
    "        return f'Here is a new list {self.list}'\n",
    "a = input('Enter your array with syntax as follows (x,y,z,...) or [\"a\",b,c,...]: ')\n",
    "ab = Stack(a)\n",
    "ab.pop()\n",
    "\n",
    "\n"
   ]
  },
  {
   "cell_type": "code",
   "execution_count": 10,
   "id": "133616a4",
   "metadata": {},
   "outputs": [
    {
     "name": "stdout",
     "output_type": "stream",
     "text": [
      "Enter your items with the syntax as follow [(a,23),(b,30)]: \n",
      "Enter the name of new item: \n",
      "Enter the quanity of new item: \n"
     ]
    },
    {
     "ename": "ValueError",
     "evalue": "invalid literal for int() with base 10: ''",
     "output_type": "error",
     "traceback": [
      "\u001b[1;31m---------------------------------------------------------------------------\u001b[0m",
      "\u001b[1;31mValueError\u001b[0m                                Traceback (most recent call last)",
      "Cell \u001b[1;32mIn[10], line 23\u001b[0m\n\u001b[0;32m     21\u001b[0m array \u001b[38;5;241m=\u001b[39m \u001b[38;5;28minput\u001b[39m(\u001b[38;5;124m'\u001b[39m\u001b[38;5;124mEnter your items with the syntax as follow [(a,23),(b,30)]: \u001b[39m\u001b[38;5;124m'\u001b[39m)\n\u001b[0;32m     22\u001b[0m new_item \u001b[38;5;241m=\u001b[39m \u001b[38;5;28mstr\u001b[39m(\u001b[38;5;28minput\u001b[39m(\u001b[38;5;124m'\u001b[39m\u001b[38;5;124mEnter the name of new item: \u001b[39m\u001b[38;5;124m'\u001b[39m))\n\u001b[1;32m---> 23\u001b[0m quanity_item \u001b[38;5;241m=\u001b[39m \u001b[38;5;28mint\u001b[39m(\u001b[38;5;28minput\u001b[39m(\u001b[38;5;124m'\u001b[39m\u001b[38;5;124mEnter the quanity of new item: \u001b[39m\u001b[38;5;124m'\u001b[39m))\n\u001b[0;32m     24\u001b[0m deleted_item \u001b[38;5;241m=\u001b[39m \u001b[38;5;28mstr\u001b[39m(\u001b[38;5;28minput\u001b[39m(\u001b[38;5;124m'\u001b[39m\u001b[38;5;124mEnter the item name that you want to remove: \u001b[39m\u001b[38;5;124m'\u001b[39m))\n\u001b[0;32m     25\u001b[0m a \u001b[38;5;241m=\u001b[39m shoppingcart(array)\n",
      "\u001b[1;31mValueError\u001b[0m: invalid literal for int() with base 10: ''"
     ]
    }
   ],
   "source": [
    "import logging\n",
    "import ast\n",
    "logging.basicConfig(\n",
    "     level = logging.INFO,\n",
    "     filename = 'logOOP.log',\n",
    "     filemode = 'w',\n",
    "     format=\"%(asctime)s - %(levelname)s - %(message)s\")\n",
    "class shoppingcart:\n",
    "    def __init__(self, array):\n",
    "        self.items = list(ast.literal_eval(array))\n",
    "    def add_items(self, name, quanity):\n",
    "        item = (name,quanity)\n",
    "        self.items.append(item)\n",
    "        return f'the list of items is: {self.items}'\n",
    "    def remove_items(self,name):\n",
    "        for i in self.items:\n",
    "            if i[0] == name:\n",
    "                self.items.remove[i]\n",
    "                return f'the new list is: {self.items}'\n",
    "        return f'there is no item having the name like {name}'\n",
    "array = input('Enter your items with the syntax as follow [(a,23),(b,30)]: ')\n",
    "new_item = str(input('Enter the name of new item: '))\n",
    "quanity_item = int(input('Enter the quanity of new item: '))\n",
    "deleted_item = str(input('Enter the item name that you want to remove: '))\n",
    "a = shoppingcart(array)\n",
    "print(a.add_items(new_item, quanity_item))\n",
    "#a.remove_items(deleted_item)\n",
    "\n",
    "        "
   ]
  },
  {
   "cell_type": "code",
   "execution_count": 11,
   "id": "2156a236",
   "metadata": {},
   "outputs": [],
   "source": [
    "# Define a class called Bank to implement a simple banking system\n",
    "import logging \n",
    "logging.basicConfig(\n",
    "     level = logging.INFO,\n",
    "     filename = 'logOOP.log',\n",
    "     filemode = 'w',\n",
    "     format=\"%(asctime)s - %(levelname)s - %(message)s\")\n",
    "\n",
    "class blank:\n",
    "    def __init__(self):\n",
    "        self.customer = {}\n",
    "    def create_account(self, account_number, initial_balance = 0 ): #no need to enter initial balance. default is 0\n",
    "        for k in self.customer.keys():\n",
    "            if k == account_number:\n",
    "               logging.info('This account number has already existed')\n",
    "               return f'This account number has already existed'\n",
    "        self.customer[account_number] = initial_balance\n",
    "        logging.info('This account is created successfully')\n",
    "        return f' Account {account_number} has been created successfully'\n",
    "    def make_deposit(self,account_number, deposit):\n",
    "        for k in self.customer.keys():\n",
    "            if k == account_number:\n",
    "                self.customer[account_number] += deposit\n",
    "                log = f'Account {account_number} has been successfully deposited with balance of {self.customer[account_number]}'\n",
    "                logging.info(log)\n",
    "                return log\n",
    "        log = f'Account {account_number} does not existed. The system can not deposit for it'\n",
    "        logging.info(log)\n",
    "        return log\n",
    "    def make_withdrawal(self,account_number,amount):\n",
    "        for k in self.customer.keys():\n",
    "            if k == account_number:\n",
    "                if self.customer[account_number] >= amount:\n",
    "                    self.customer[account_number] -= amount\n",
    "                    log = f' Account {account_number} has been succesfully withdrawaled with amount of {amount} and the current balance is {self.customer[account_number]}'\n",
    "                    logging.info(log)\n",
    "                    return log\n",
    "                else:\n",
    "                    log = f' Account {account_number} does not have enough balance. The balance of {account_number} is currently {self.customer[account_number]}'\n",
    "                    logging.info(log)\n",
    "                    return log\n",
    "            log = f'Account {account_number} does not exist'\n",
    "            logging.info(log)\n",
    "        return log\n",
    "            \n",
    "    def check_balance(self,account_number):\n",
    "        for i in self.customer.keys():\n",
    "            if i == account_number:\n",
    "                return f'The balance of {account_number} is {self.customer[account_number]}'\n",
    "        return f'The account {account_number} does not exist'\n",
    "                    \n",
    "\n",
    "a = blank()\n"
   ]
  },
  {
   "cell_type": "code",
   "execution_count": 12,
   "id": "27de88ad",
   "metadata": {},
   "outputs": [
    {
     "name": "stdout",
     "output_type": "stream",
     "text": [
      "Enter your new account: \n"
     ]
    },
    {
     "ename": "ValueError",
     "evalue": "invalid literal for int() with base 10: ''",
     "output_type": "error",
     "traceback": [
      "\u001b[1;31m---------------------------------------------------------------------------\u001b[0m",
      "\u001b[1;31mValueError\u001b[0m                                Traceback (most recent call last)",
      "Cell \u001b[1;32mIn[12], line 1\u001b[0m\n\u001b[1;32m----> 1\u001b[0m account_number \u001b[38;5;241m=\u001b[39m \u001b[38;5;28mint\u001b[39m(\u001b[38;5;28minput\u001b[39m(\u001b[38;5;124m'\u001b[39m\u001b[38;5;124mEnter your new account: \u001b[39m\u001b[38;5;124m'\u001b[39m))\n\u001b[0;32m      2\u001b[0m a\u001b[38;5;241m.\u001b[39mcreate_account(account_number,initial_balance)\n",
      "\u001b[1;31mValueError\u001b[0m: invalid literal for int() with base 10: ''"
     ]
    }
   ],
   "source": [
    "account_number = int(input('Enter your new account: '))\n",
    "a.create_account(account_number,initial_balance)\n"
   ]
  },
  {
   "cell_type": "code",
   "execution_count": 13,
   "id": "730748d8",
   "metadata": {},
   "outputs": [
    {
     "data": {
      "text/plain": [
       "'Account 12 does not existed. The system can not deposit for it'"
      ]
     },
     "execution_count": 13,
     "metadata": {},
     "output_type": "execute_result"
    }
   ],
   "source": [
    "a.make_deposit(12,4)"
   ]
  },
  {
   "cell_type": "code",
   "execution_count": 30,
   "id": "ad4e76df",
   "metadata": {},
   "outputs": [
    {
     "data": {
      "text/plain": [
       "{143: 0}"
      ]
     },
     "execution_count": 30,
     "metadata": {},
     "output_type": "execute_result"
    }
   ],
   "source": [
    "a.customer"
   ]
  },
  {
   "cell_type": "code",
   "execution_count": 45,
   "id": "a01d0ced",
   "metadata": {},
   "outputs": [
    {
     "data": {
      "text/plain": [
       "' Account 143 has been created successfully'"
      ]
     },
     "execution_count": 45,
     "metadata": {},
     "output_type": "execute_result"
    }
   ],
   "source": [
    "a.create_account(143\n",
    "                )"
   ]
  },
  {
   "cell_type": "code",
   "execution_count": 46,
   "id": "0c6a246a",
   "metadata": {},
   "outputs": [
    {
     "data": {
      "text/plain": [
       "'Account 143 has been successfully deposited with balance of 50'"
      ]
     },
     "execution_count": 46,
     "metadata": {},
     "output_type": "execute_result"
    }
   ],
   "source": [
    "a.make_deposit(143,50)"
   ]
  },
  {
   "cell_type": "code",
   "execution_count": 47,
   "id": "71414acc",
   "metadata": {},
   "outputs": [
    {
     "data": {
      "text/plain": [
       "' Account 143 has been succesfully withdrawaled with amount of 49 and the current balance is 1'"
      ]
     },
     "execution_count": 47,
     "metadata": {},
     "output_type": "execute_result"
    }
   ],
   "source": [
    "a.make_withdrawal(143, 49)"
   ]
  },
  {
   "cell_type": "code",
   "execution_count": 48,
   "id": "ae1187c2",
   "metadata": {},
   "outputs": [
    {
     "data": {
      "text/plain": [
       "'The balance of 143 is 1'"
      ]
     },
     "execution_count": 48,
     "metadata": {},
     "output_type": "execute_result"
    }
   ],
   "source": [
    "a.check_balance(143)"
   ]
  },
  {
   "cell_type": "code",
   "execution_count": 49,
   "id": "ce223e6b",
   "metadata": {},
   "outputs": [
    {
     "name": "stdout",
     "output_type": "stream",
     "text": [
      "Something is happening before the function is called.\n",
      "Hello!\n",
      "Something is happening after the function is called.\n"
     ]
    }
   ],
   "source": [
    "def my_decorator(func):\n",
    "    def wrapper():\n",
    "        print(\"Something is happening before the function is called.\")\n",
    "        func()\n",
    "        print(\"Something is happening after the function is called.\")\n",
    "    return wrapper\n",
    "\n",
    "@my_decorator #decorator nghia la trang tri\n",
    "def say_hello(): #khi 1 ham duoc goi duoi @my_docorator, ham do se mang nhung thuoc tinh duoc them vao cua decorator, \n",
    "                 # no khong con la chinh no nua ma no thanh cai khac r, mac du van goi ten ham do\n",
    "    print(\"Hello!\")\n",
    "\n",
    "say_hello()\n"
   ]
  },
  {
   "cell_type": "code",
   "execution_count": 61,
   "id": "73b1eb64",
   "metadata": {},
   "outputs": [
    {
     "ename": "IndentationError",
     "evalue": "unexpected indent (766261893.py, line 2)",
     "output_type": "error",
     "traceback": [
      "\u001b[1;36m  Cell \u001b[1;32mIn[61], line 2\u001b[1;36m\u001b[0m\n\u001b[1;33m    def log_function_call(func):       #se lay function goc func = add(a,b)\u001b[0m\n\u001b[1;37m    ^\u001b[0m\n\u001b[1;31mIndentationError\u001b[0m\u001b[1;31m:\u001b[0m unexpected indent\n"
     ]
    }
   ],
   "source": [
    " #nested function\n",
    "    def log_function_call(func):       #se lay function goc func = add(a,b) # lay cai me truoc\n",
    "        def wrapper(*args, **kwargs):  #se lay value cua parameter cua function  la 3 va 5 # lay cai con\n",
    "                                       #args = (3,5) \n",
    "                                      #result = add(3, 5), the arguments 3 and 5 are passed to the wrapper function,\n",
    "            print(f\"Calling {func.__name__} with arguments {args} and keyword arguments {kwargs}\")\n",
    "            result = func(*args, **kwargs) # result = add(3,5) --> return 3+5\n",
    "            print(f\"{func.__name__} returned: {result}\")\n",
    "            return result #\n",
    "        return wrapper # la goi thang ham con wrapper ra chay\n",
    "\n",
    "@log_function_call\n",
    "def add(a, b):\n",
    "    return a + b\n",
    "\n",
    "# Using the decorated function\n",
    "result = add(3, 5) "
   ]
  },
  {
   "cell_type": "code",
   "execution_count": 62,
   "id": "4d471988",
   "metadata": {},
   "outputs": [
    {
     "name": "stdout",
     "output_type": "stream",
     "text": [
      "Calling add with arguments (3, 5) and keyword arguments {}\n",
      "add returned: 8\n"
     ]
    }
   ],
   "source": [
    "def log_function_call(func):\n",
    "    def wrapper(*args, **kwargs):\n",
    "        print(f\"Calling {func.__name__} with arguments {args} and keyword arguments {kwargs}\")\n",
    "        result = func(*args, **kwargs)\n",
    "        print(f\"{func.__name__} returned: {result}\")\n",
    "        return result\n",
    "    return wrapper\n",
    "\n",
    "@log_function_call\n",
    "def add(a, b):\n",
    "    return a + b\n",
    "\n",
    "# Using the decorated function\n",
    "result = add(3, 5)\n"
   ]
  },
  {
   "cell_type": "code",
   "execution_count": 7,
   "id": "4cf139f6",
   "metadata": {},
   "outputs": [],
   "source": [
    "# Write a Python program to create a decorator that logs the arguments and return value of a function.\n",
    "import logging\n",
    "logging.basicConfig(\n",
    "     level = logging.INFO,\n",
    "     filename = 'logOOP.log',\n",
    "     filemode = 'w',\n",
    "     format=\"%(asctime)s - %(levelname)s - %(message)s\")\n",
    "def decorator(func):\n",
    "    def wrapper(*args, **kargs):\n",
    "        log = f' The calling function is {func.__name__} with arguments: {args} and key word argument {kargs}'\n",
    "        logging.info(log)\n",
    "        print(log)\n",
    "        result = func(*args, **kargs)\n",
    "        return result\n",
    "    return wrapper\n",
    "\n",
    "@decorator\n",
    "def multiply(x,y):\n",
    "    return x*y\n",
    "    "
   ]
  },
  {
   "cell_type": "code",
   "execution_count": 14,
   "id": "10c88ae0",
   "metadata": {},
   "outputs": [
    {
     "name": "stdout",
     "output_type": "stream",
     "text": [
      " The calling function is multiply with arguments: (3, 4) and key word argument {}\n"
     ]
    },
    {
     "data": {
      "text/plain": [
       "12"
      ]
     },
     "execution_count": 14,
     "metadata": {},
     "output_type": "execute_result"
    }
   ],
   "source": [
    "\n",
    "multiply(3,4)\n"
   ]
  },
  {
   "cell_type": "code",
   "execution_count": 12,
   "id": "3fde2fa7",
   "metadata": {},
   "outputs": [],
   "source": [
    "# Write a Python program to create a decorator function to measure the execution time of a function.\n",
    "import time \n",
    "import logging \n",
    "logging.basicConfig(\n",
    "     level = logging.INFO,\n",
    "     filename = 'logOOP.log',\n",
    "     filemode = 'w',\n",
    "     format=\"%(asctime)s - %(levelname)s - %(message)s\")\n",
    "\n",
    "def execution_time_decorator(func):\n",
    "    def wrapper(*args, **kargs):\n",
    "        starttime = time.time()\n",
    "        logging.info(f'Start at {starttime}')\n",
    "        log = f'The calling function is {func.__name__} with args: {args} and kargs {kargs}'\n",
    "        logging.info(log)\n",
    "        result = func(*args, **kargs)\n",
    "        endtime = time.time()\n",
    "        logging.info(f'End at {endtime}')\n",
    "        execution_time = endtime - starttime\n",
    "        print(f'The execution time is {execution_time}')\n",
    "        return result\n",
    "    return wrapper\n",
    "\n",
    "@execution_time_decorator\n",
    "def sum_range(number):\n",
    "    total = 0\n",
    "    for i in range(number):\n",
    "        total += i\n",
    "    return total \n",
    "        \n",
    "              \n",
    "    \n",
    "    "
   ]
  },
  {
   "cell_type": "code",
   "execution_count": 13,
   "id": "b23a3663",
   "metadata": {},
   "outputs": [
    {
     "name": "stdout",
     "output_type": "stream",
     "text": [
      "The execution time is 11.826114177703857\n"
     ]
    },
    {
     "data": {
      "text/plain": [
       "4999999950000000"
      ]
     },
     "execution_count": 13,
     "metadata": {},
     "output_type": "execute_result"
    }
   ],
   "source": [
    "sum_range(100000000)"
   ]
  },
  {
   "cell_type": "code",
   "execution_count": 6,
   "id": "05877793",
   "metadata": {},
   "outputs": [],
   "source": [
    "#Write a Python program to create a decorator to convert the return value of a function to a specified data type.\n",
    "def convert_result_datatype(data_type): #nhan nay truoc\n",
    "    def decorator(func): #nhan ham me\n",
    "        def wrapper(*arg,**karg):#nhan tham so ham me\n",
    "            result = func(*arg,**karg)\n",
    "            return data_type(result)\n",
    "        return wrapper\n",
    "    return decorator\n",
    "\n",
    "@convert_result_datatype(float)\n",
    "def multiply_range(num):\n",
    "    a = 1\n",
    "    for i in range(1,num):\n",
    "        a = a*i\n",
    "    return a"
   ]
  },
  {
   "cell_type": "code",
   "execution_count": 9,
   "id": "3076d332",
   "metadata": {},
   "outputs": [
    {
     "data": {
      "text/plain": [
       "float"
      ]
     },
     "execution_count": 9,
     "metadata": {},
     "output_type": "execute_result"
    }
   ],
   "source": [
    "type(multiply_range(10))\n"
   ]
  },
  {
   "cell_type": "code",
   "execution_count": 14,
   "id": "aa48cd89",
   "metadata": {},
   "outputs": [],
   "source": [
    "# Write a Python program that implements a decorator to cache the result of a function\n",
    "\n",
    "def cache_result(func):\n",
    "    cache = {}\n",
    "    def wrapper(*arg,**kwarg): #kwargs.items(): This returns a view object that displays a list of dictionary key-value tuple pairs.\n",
    "                               #if kwargs is {'name': 'John', 'age': 25}, then kwargs.items() would be [('name', 'John'), ('age', 25)].\n",
    "                               #The * operator is used to unpack the key-value pairs into separate elements. like ('name', 'John', 'age', 25).\n",
    "        key = (*arg,*kwarg.items())\n",
    "        if key in cache:\n",
    "            print('Retrieving result from cache..')\n",
    "            print(f'{cache}')\n",
    "            return cache[key]\n",
    "        result = func(*arg, **kwarg)\n",
    "        cache[key] = result\n",
    "        return result\n",
    "    return wrapper\n",
    "\n",
    "@cache_result\n",
    "def minus(x,y):\n",
    "    return x - y\n",
    "    "
   ]
  },
  {
   "cell_type": "code",
   "execution_count": 18,
   "id": "75d847e7",
   "metadata": {},
   "outputs": [
    {
     "name": "stdout",
     "output_type": "stream",
     "text": [
      "Retrieving result from cache..\n",
      "{(3, 6): -3, (2, 6): -4}\n"
     ]
    },
    {
     "data": {
      "text/plain": [
       "-4"
      ]
     },
     "execution_count": 18,
     "metadata": {},
     "output_type": "execute_result"
    }
   ],
   "source": [
    "minus(2,6)"
   ]
  },
  {
   "cell_type": "code",
   "execution_count": 4,
   "id": "e1913435",
   "metadata": {},
   "outputs": [
    {
     "ename": "NameError",
     "evalue": "name 'cache' is not defined",
     "output_type": "error",
     "traceback": [
      "\u001b[1;31m---------------------------------------------------------------------------\u001b[0m",
      "\u001b[1;31mNameError\u001b[0m                                 Traceback (most recent call last)",
      "Cell \u001b[1;32mIn[4], line 1\u001b[0m\n\u001b[1;32m----> 1\u001b[0m cache\n",
      "\u001b[1;31mNameError\u001b[0m: name 'cache' is not defined"
     ]
    }
   ],
   "source": [
    "cache"
   ]
  },
  {
   "cell_type": "code",
   "execution_count": 19,
   "id": "dfe77e6a",
   "metadata": {},
   "outputs": [],
   "source": [
    "import logging \n",
    "logging.basicConfig(\n",
    "     level = logging.INFO,\n",
    "     filename = 'logOOP.log',\n",
    "     filemode = 'w',\n",
    "     format=\"%(asctime)s - %(levelname)s - %(message)s\")\n",
    "\n",
    "def validate_function(condition):\n",
    "    def decorator(func):\n",
    "        def wrapper(*args, **kwargs):\n",
    "            log = f'The calling function is {func.__name__} with args: {args} and kwargs: {kwargs}'\n",
    "            logging.info(log)\n",
    "            if condition(*args, **kwargs):\n",
    "                result = func(*args, **kwargs)\n",
    "                log = f'result is {result}'\n",
    "                logging.info(log)\n",
    "                return log\n",
    "            else:\n",
    "                logging.error('Can not be divided by zero') \n",
    "                raise TypeError('Can not be divided by zero') #raise stop programming\n",
    "        return wrapper\n",
    "    return decorator\n",
    "\n",
    "@validate_function(lambda x,y: y>0)\n",
    "def divide(x,y):\n",
    "    return x/y"
   ]
  },
  {
   "cell_type": "code",
   "execution_count": 20,
   "id": "d776405e",
   "metadata": {},
   "outputs": [
    {
     "ename": "TypeError",
     "evalue": "Can not be divided by zero",
     "output_type": "error",
     "traceback": [
      "\u001b[1;31m---------------------------------------------------------------------------\u001b[0m",
      "\u001b[1;31mTypeError\u001b[0m                                 Traceback (most recent call last)",
      "Cell \u001b[1;32mIn[20], line 1\u001b[0m\n\u001b[1;32m----> 1\u001b[0m divide(\u001b[38;5;241m2\u001b[39m,\u001b[38;5;241m0\u001b[39m)\n",
      "Cell \u001b[1;32mIn[19], line 20\u001b[0m, in \u001b[0;36mvalidate_function.<locals>.decorator.<locals>.wrapper\u001b[1;34m(*args, **kwargs)\u001b[0m\n\u001b[0;32m     18\u001b[0m \u001b[38;5;28;01melse\u001b[39;00m:\n\u001b[0;32m     19\u001b[0m     logging\u001b[38;5;241m.\u001b[39merror(\u001b[38;5;124m'\u001b[39m\u001b[38;5;124mCan not be divided by zero\u001b[39m\u001b[38;5;124m'\u001b[39m) \n\u001b[1;32m---> 20\u001b[0m     \u001b[38;5;28;01mraise\u001b[39;00m \u001b[38;5;167;01mTypeError\u001b[39;00m(\u001b[38;5;124m'\u001b[39m\u001b[38;5;124mCan not be divided by zero\u001b[39m\u001b[38;5;124m'\u001b[39m)\n",
      "\u001b[1;31mTypeError\u001b[0m: Can not be divided by zero"
     ]
    }
   ],
   "source": [
    "divide(2,0)"
   ]
  },
  {
   "cell_type": "code",
   "execution_count": 24,
   "id": "1faea8be",
   "metadata": {},
   "outputs": [],
   "source": [
    "#Write a Python program that implements a decorator to retry a function multiple times in case of failure.\n",
    "import time\n",
    "import sqlite3\n",
    "import logging \n",
    "logging.basicConfig(\n",
    "     level = logging.INFO,\n",
    "     filename = 'logOOP.log',\n",
    "     filemode = 'w',\n",
    "     format=\"%(asctime)s - %(levelname)s - %(message)s\")\n",
    "\n",
    "def retry_on_failure(max_retries, delay):\n",
    "    def decorator(func):\n",
    "        def wrapper(*args,**kwargs):\n",
    "            for i in range(1,max_retries + 1):\n",
    "                try:\n",
    "                    log = f'Connecting to database at {i} time(s)'\n",
    "                    logging.info(log)\n",
    "                    result = func(*args, **kwargs)\n",
    "                    log = 'Connection to database successfully'\n",
    "                    logging.info(log)\n",
    "                    return log\n",
    "                except Exception as e:\n",
    "                    log = f'Exception occured:{e}. Failed to connect database at {i} time(s). Retrying...'\n",
    "                    print(log)\n",
    "                    logging.info(log)\n",
    "                    time.sleep(delay)\n",
    "            raise Exception(\"Maximum retries exceeded. Completely fail to connect to database\") #raise la stop lun\n",
    "        return wrapper\n",
    "    return decorator\n",
    "\n",
    "@retry_on_failure(10,4)\n",
    "def connect_to_database():\n",
    "    conn = sqlite3.connect(\"example.db\")\n",
    "    cursor = conn.cursor()\n",
    "    cursor.execute(\"Select * from users\")\n",
    "    result = cursor.fetchall()\n",
    "    cursor.close()\n",
    "    conn.close()\n",
    "    return result"
   ]
  },
  {
   "cell_type": "code",
   "execution_count": 25,
   "id": "2ecacd76",
   "metadata": {},
   "outputs": [
    {
     "name": "stdout",
     "output_type": "stream",
     "text": [
      "Exception occured:no such table: users. Failed to connect database at 1 time(s). Retrying...\n",
      "Exception occured:no such table: users. Failed to connect database at 2 time(s). Retrying...\n",
      "Exception occured:no such table: users. Failed to connect database at 3 time(s). Retrying...\n",
      "Exception occured:no such table: users. Failed to connect database at 4 time(s). Retrying...\n",
      "Exception occured:no such table: users. Failed to connect database at 5 time(s). Retrying...\n",
      "Exception occured:no such table: users. Failed to connect database at 6 time(s). Retrying...\n",
      "Exception occured:no such table: users. Failed to connect database at 7 time(s). Retrying...\n",
      "Exception occured:no such table: users. Failed to connect database at 8 time(s). Retrying...\n",
      "Exception occured:no such table: users. Failed to connect database at 9 time(s). Retrying...\n",
      "Exception occured:no such table: users. Failed to connect database at 10 time(s). Retrying...\n"
     ]
    },
    {
     "ename": "Exception",
     "evalue": "Maximum retries exceeded. Completely fail to connect to database",
     "output_type": "error",
     "traceback": [
      "\u001b[1;31m---------------------------------------------------------------------------\u001b[0m",
      "\u001b[1;31mException\u001b[0m                                 Traceback (most recent call last)",
      "Cell \u001b[1;32mIn[25], line 1\u001b[0m\n\u001b[1;32m----> 1\u001b[0m data \u001b[38;5;241m=\u001b[39m connect_to_database()\n",
      "Cell \u001b[1;32mIn[24], line 27\u001b[0m, in \u001b[0;36mretry_on_failure.<locals>.decorator.<locals>.wrapper\u001b[1;34m(*args, **kwargs)\u001b[0m\n\u001b[0;32m     25\u001b[0m         logging\u001b[38;5;241m.\u001b[39minfo(log)\n\u001b[0;32m     26\u001b[0m         time\u001b[38;5;241m.\u001b[39msleep(delay)\n\u001b[1;32m---> 27\u001b[0m \u001b[38;5;28;01mraise\u001b[39;00m \u001b[38;5;167;01mException\u001b[39;00m(\u001b[38;5;124m\"\u001b[39m\u001b[38;5;124mMaximum retries exceeded. Completely fail to connect to database\u001b[39m\u001b[38;5;124m\"\u001b[39m)\n",
      "\u001b[1;31mException\u001b[0m: Maximum retries exceeded. Completely fail to connect to database"
     ]
    }
   ],
   "source": [
    "data = connect_to_database()"
   ]
  },
  {
   "cell_type": "code",
   "execution_count": 21,
   "id": "8bdb3908",
   "metadata": {},
   "outputs": [],
   "source": [
    "#Write a Python program that implements a decorator to handle exceptions raised by a function and provide a default response.\n",
    "def handle_exceptions(default):\n",
    "    def decorator(func):\n",
    "        def wrapper(*args, **kwargs):\n",
    "            print(f'The calling function is {func.__name__} with args: {args} and kwargs {kwargs}')\n",
    "            try:\n",
    "                result = func(*args, **kwargs)\n",
    "                return result\n",
    "            except Exception as e:\n",
    "                print(f'Exception occured: {e}')\n",
    "                return default\n",
    "        return wrapper\n",
    "    return decorator\n",
    "\n",
    "@handle_exceptions(\"An error occured!\")\n",
    "def divide(x,y):\n",
    "    return x/y\n",
    "\n",
    "            "
   ]
  },
  {
   "cell_type": "code",
   "execution_count": 22,
   "id": "9607073a",
   "metadata": {},
   "outputs": [
    {
     "name": "stdout",
     "output_type": "stream",
     "text": [
      "The calling function is divide with args: (2, 0) and kwargs {}\n",
      "Exception occured: division by zero\n"
     ]
    },
    {
     "data": {
      "text/plain": [
       "'An error occured!'"
      ]
     },
     "execution_count": 22,
     "metadata": {},
     "output_type": "execute_result"
    }
   ],
   "source": [
    "divide(2,0)"
   ]
  },
  {
   "cell_type": "markdown",
   "id": "b33b8fad",
   "metadata": {},
   "source": [
    "### Handling Exception using \"Try...Except..\""
   ]
  },
  {
   "cell_type": "code",
   "execution_count": 27,
   "id": "8c4dd34e",
   "metadata": {},
   "outputs": [
    {
     "name": "stdout",
     "output_type": "stream",
     "text": [
      "Exception occured: division by zero\n",
      "The division by zero operation is not allowed.\n"
     ]
    }
   ],
   "source": [
    "\n",
    "\n",
    "def divide_numbers(x, y):\n",
    "    try:\n",
    "        # Attempt to perform the division operation and store the result in the 'result' variable.\n",
    "        result = x / y\n",
    "        # Print the result of the division.\n",
    "        print(\"Result:\", result)\n",
    "    except ZeroDivisionError as e:\n",
    "        # Handle the exception if a division by zero is attempted.\n",
    "        print(f'Exception occured: {e}')\n",
    "        print(\"The division by zero operation is not allowed.\")\n",
    "\n",
    "# Usage\n",
    "# Define the numerator and denominator values.\n",
    "numerator = 100\n",
    "denominator = 0\n",
    "# Call the divide_numbers function with the provided numerator and denominator.\n",
    "divide_numbers(numerator, denominator)"
   ]
  },
  {
   "cell_type": "code",
   "execution_count": null,
   "id": "aeb243d4",
   "metadata": {},
   "outputs": [],
   "source": [
    "# Define a function named get_integer_input that takes a prompt as a parameter.\n",
    "def get_integer_input(prompt):\n",
    "    try:\n",
    "        # Attempt to get an integer input from the user and store it in the 'value' variable.\n",
    "        value = int(input(prompt))\n",
    "        # Return the integer value.\n",
    "        return value\n",
    "    except ValueError as e:\n",
    "        print(f'Exception occured: {e}')\n",
    "        # Handle the exception if the user's input is not a valid integer.\n",
    "        print(\"Error: Invalid input, input a valid integer.\")\n",
    "\n",
    "# Usage\n",
    "# Call the get_integer_input function to get an integer input from the user with the provided prompt.\n",
    "n = get_integer_input(\"Input an integer: \")\n",
    "# Print the input value obtained from the function.\n",
    "print(\"Input value:\", n)\n"
   ]
  },
  {
   "cell_type": "code",
   "execution_count": 29,
   "id": "4ebc828f",
   "metadata": {},
   "outputs": [
    {
     "name": "stdout",
     "output_type": "stream",
     "text": [
      "Operating System: nt\n",
      "\n",
      "Current Working Directory:  C:\\Users\\admin\n",
      "\n",
      "List of files and directories in the current directory:\n",
      "['.anaconda', '.anyLogistix', '.anyLogistix3', '.anyLogistix3ple', '.azuredatastudio', '.bash_history', '.conda', '.condarc', '.config', '.continuum', '.docker', '.git', '.gitconfig', '.ipynb_checkpoints', '.ipython', '.jupyter', '.lesshst', '.matplotlib', '.node_repl_history', '.spyder-py3', '.ssh', '.vscode', '356', '3D Objects', 'airflow_tutorial', 'Anaconda3', 'anaconda32', 'AppData', 'Application Data', 'Bosch', 'car_price_prediction', 'Config.csv', 'Configurations.ini', 'Contacts', 'Cookies', 'cplex_studio1210.osx', 'cplex_studio12100-osx.app', 'Desktop', 'Documents', 'Downloads', 'example.db', 'Favorites', 'Guest_Lecture', 'IntelGraphicsProfiles', 'Jedi', 'Lect 4', 'Lect 5', 'Links', 'Local Settings', 'log.log', 'logOOP.log', 'MediaGet2', 'Music', 'My Documents', 'NetHood', 'NTUSER.DAT', 'ntuser.dat.LOG1', 'ntuser.dat.LOG2', 'NTUSER.DAT{53b39e88-18c4-11ea-a811-000d3aa4692b}.TM.blf', 'NTUSER.DAT{53b39e88-18c4-11ea-a811-000d3aa4692b}.TMContainer00000000000000000001.regtrans-ms', 'NTUSER.DAT{53b39e88-18c4-11ea-a811-000d3aa4692b}.TMContainer00000000000000000002.regtrans-ms', 'ntuser.ini', 'OneDrive', 'OOP Practices.ipynb', 'OTI-Template.xlsx', 'Pictures', 'Postman', 'PrintHood', 'Python Logging.ipynb', 'QMM_Bosch test python.ipynb', 'Recent', 'Saved Games', 'Searches', 'SendTo', 'source', 'ssh', 'Start Menu', 'Templates', 'Thesis2023.ipynb', 'Tracing', 'Untitled.ipynb', 'Untitled1.ipynb', 'utils.py', 'Videos', 'Zotero', '_netrc']\n",
      "\n",
      "Test if a specified file exis or not:\n",
      "Not accessed or problem in reading: abc.txt\n"
     ]
    }
   ],
   "source": [
    "import os\n",
    "print(\"Operating System:\",os.name)\n",
    "##print(\"\\nInformation of current operating system: \",os.name())\n",
    "print(\"\\nCurrent Working Directory: \",os.getcwd())\n",
    "print(\"\\nList of files and directories in the current directory:\")\n",
    "print(os.listdir('.'))\n",
    "print(\"\\nTest if a specified file exis or not:\")\n",
    "try:\n",
    "   filename = 'abc.txt'\n",
    "   f = open(filename, 'r')\n",
    "   text = f.read()\n",
    "   f.close()\n",
    "except IOError:\n",
    "   print('Not accessed or problem in reading: ' + filename)\n"
   ]
  },
  {
   "cell_type": "code",
   "execution_count": null,
   "id": "4c56e2d2",
   "metadata": {},
   "outputs": [],
   "source": [
    "# Define a function named open_file that takes a filename as a parameter.\n",
    "def open_file(fileName):\n",
    "    try:\n",
    "        # Attempt to open the specified file in read mode ('r').\n",
    "        file = open(filename,'r')\n",
    "        contents = file.read()\n",
    "        print(contents)\n",
    "    except FileNotFoundError as e:\n",
    "        print(f\"Error: File not found {e}\")\n",
    "        raise Exception('Cannot')   \n"
   ]
  },
  {
   "cell_type": "code",
   "execution_count": null,
   "id": "9ef365ff",
   "metadata": {},
   "outputs": [],
   "source": [
    "# Prompt the user to input a file name and store it in the 'file_name' variable.\n",
    "file_name = input(\"Input a file name: \")\n",
    "# Call the open_file function with the provided file name.\n",
    "open_file(file_name) "
   ]
  },
  {
   "cell_type": "code",
   "execution_count": 10,
   "id": "617c8540",
   "metadata": {},
   "outputs": [],
   "source": [
    "import logging \n",
    "logging.basicConfig(\n",
    "     level = logging.INFO,\n",
    "     filename = 'logOOP.log',\n",
    "     filemode = 'w',\n",
    "     format=\"%(asctime)s - %(levelname)s - %(message)s\")\n",
    "# Define a function named get_numeric_input that takes a prompt as a parameter.\n",
    "def get_numeric_input(number):\n",
    "     # Use a while loop to repeatedly prompt the user until a valid numeric input is provided.\n",
    "    while True: #input untill Try block succesfully\n",
    "         try:\n",
    "            value = float(input(number))\n",
    "            return value\n",
    "         except ValueError as e: #Co the dug Exception, The base class for all exceptions.#nhung ma da su dung cu the tung loi thi phai dung loi do no moi nhan\n",
    "            log = f'the error is {e}'\n",
    "            logging.info(log)\n",
    "            print(log)\n",
    "\n",
    "            \n",
    "            "
   ]
  },
  {
   "cell_type": "code",
   "execution_count": 12,
   "id": "7a18caee",
   "metadata": {},
   "outputs": [
    {
     "name": "stdout",
     "output_type": "stream",
     "text": [
      "Input the first number: zx\n",
      "the error is could not convert string to float: 'zx'\n",
      "Input the first number: 12\n"
     ]
    }
   ],
   "source": [
    "n1 = get_numeric_input(\"Input the first number: \")"
   ]
  },
  {
   "cell_type": "code",
   "execution_count": 13,
   "id": "a4b21155",
   "metadata": {},
   "outputs": [],
   "source": [
    "def open_file(filename):\n",
    "    try: \n",
    "        with open(filename, 'w') as file:  #normally calling file.close() for optimizing resources, but with \"With\" statement ,\n",
    "            content = file.read() # it simplifies the code by taking care of opening and closing the file automatically when existing with block statement\n",
    "            print('content is:')\n",
    "            print(content)\n",
    "    except Exception as e:\n",
    "        print(f'the error is {e}')\n",
    "\n",
    "        "
   ]
  },
  {
   "cell_type": "code",
   "execution_count": 17,
   "id": "d3ec3da7",
   "metadata": {},
   "outputs": [
    {
     "name": "stdout",
     "output_type": "stream",
     "text": [
      "input filename: logOOP.log\n",
      "the error is not readable\n"
     ]
    }
   ],
   "source": [
    "filename = input('input filename: ')\n",
    "open_file(filename)"
   ]
  },
  {
   "cell_type": "code",
   "execution_count": 1,
   "id": "7b16c075",
   "metadata": {},
   "outputs": [
    {
     "name": "stdout",
     "output_type": "stream",
     "text": [
      "Enter the Index: 12\n",
      "the error is list index out of range, the length of this list iss 6\n",
      "Enter the Index: asd\n",
      "the error is invalid literal for int() with base 10: 'asd', you need to input the integer\n",
      "Enter the Index: 2\n"
     ]
    },
    {
     "data": {
      "text/plain": [
       "'the value of list is 3'"
      ]
     },
     "execution_count": 1,
     "metadata": {},
     "output_type": "execute_result"
    }
   ],
   "source": [
    "import logging \n",
    "logging.basicConfig(\n",
    "     level = logging.INFO,\n",
    "     filename = 'logOOP.log',\n",
    "     filemode = 'w',\n",
    "     format=\"%(asctime)s - %(levelname)s - %(message)s\")\n",
    "\n",
    "# Define a function named test_index that takes 'data' and 'index' as parameters.\n",
    "def text_index(data):\n",
    "    while True: # force to input the number until the number is inputed\n",
    "        try:\n",
    "            index = int(input('Enter the Index: '))\n",
    "            value = data[index]\n",
    "            return f'the value of list is {value}'\n",
    "        # Error details if you wanna configure each handling exception\n",
    "        except ValueError as e: \n",
    "            log = f'the error is {e}, you need to input the integer'\n",
    "            logging.info(log)\n",
    "            print(log) \n",
    "        except IndexError as e:\n",
    "            log = f'the error is {e}, the length of this list iss {len(data)}'\n",
    "            logging.info(log)\n",
    "            print(log)\n",
    "        except KeyboardInterrupt as e:\n",
    "            log = f'the error is {e}, you try to cancel the input'\n",
    "            logging.info(log)\n",
    "            print(log)\n",
    "a=[1,2,3,5,'asd','xc']\n",
    "text_index(a)\n",
    "            \n",
    "    "
   ]
  },
  {
   "cell_type": "code",
   "execution_count": 24,
   "id": "44ab0fae",
   "metadata": {},
   "outputs": [
    {
     "name": "stdout",
     "output_type": "stream",
     "text": [
      "Enter the Index: 21\n",
      "the error is list index out of range\n",
      "Enter the Index: sas\n",
      "the error is invalid literal for int() with base 10: 'sas'\n",
      "Enter the Index: 12\n",
      "the error is list index out of range\n",
      "Enter the Index: 1\n"
     ]
    },
    {
     "data": {
      "text/plain": [
       "'the value of list is 2'"
      ]
     },
     "execution_count": 24,
     "metadata": {},
     "output_type": "execute_result"
    }
   ],
   "source": [
    "a=[1,2,3,5,'asd','xc']\n",
    "text_index(a)"
   ]
  },
  {
   "cell_type": "code",
   "execution_count": 1,
   "id": "be94ee7d",
   "metadata": {},
   "outputs": [
    {
     "name": "stdout",
     "output_type": "stream",
     "text": [
      "Enter the Index: 12\n",
      "the error is list index out of range\n",
      "Enter the Index: 1\n"
     ]
    },
    {
     "data": {
      "text/plain": [
       "'the value of list at 1 is 2'"
      ]
     },
     "execution_count": 1,
     "metadata": {},
     "output_type": "execute_result"
    }
   ],
   "source": [
    "import logging \n",
    "logging.basicConfig(\n",
    "     level = logging.INFO,\n",
    "     filename = 'logOOP.log',\n",
    "     filemode = 'w',\n",
    "     format=\"%(asctime)s - %(levelname)s - %(message)s\")\n",
    "\n",
    "# Define a function named test_index that takes 'data' and 'index' as parameters.\n",
    "def text_index(data):\n",
    "    while True:\n",
    "        try:\n",
    "            index = int(input('Enter the Index: '))\n",
    "            value = data[index]\n",
    "            return f'the value of list at {index} is {value}'\n",
    "        except Exception as e:\n",
    "            log = f'the error is {e}'\n",
    "            logging.info(log)\n",
    "            print(log)\n",
    "a=[1,2,3,5,'asd','xc']\n",
    "text_index(a)"
   ]
  },
  {
   "cell_type": "code",
   "execution_count": 6,
   "id": "e0618b52",
   "metadata": {},
   "outputs": [
    {
     "ename": "TypeError",
     "evalue": "object of type 'int' has no len()",
     "output_type": "error",
     "traceback": [
      "\u001b[1;31m---------------------------------------------------------------------------\u001b[0m",
      "\u001b[1;31mTypeError\u001b[0m                                 Traceback (most recent call last)",
      "Cell \u001b[1;32mIn[6], line 15\u001b[0m\n\u001b[0;32m     13\u001b[0m nums \u001b[38;5;241m=\u001b[39m \u001b[38;5;241m5\u001b[39m\n\u001b[0;32m     14\u001b[0m \u001b[38;5;66;03m# Call the 'test_list_operation' function with the 'nums' list as a parameter to check for the 'length' attribute.\u001b[39;00m\n\u001b[1;32m---> 15\u001b[0m test_list_operation(nums)\n",
      "Cell \u001b[1;32mIn[6], line 5\u001b[0m, in \u001b[0;36mtest_list_operation\u001b[1;34m(nums)\u001b[0m\n\u001b[0;32m      2\u001b[0m \u001b[38;5;28;01mdef\u001b[39;00m \u001b[38;5;21mtest_list_operation\u001b[39m(nums):\n\u001b[0;32m      3\u001b[0m     \u001b[38;5;28;01mtry\u001b[39;00m:\n\u001b[0;32m      4\u001b[0m         \u001b[38;5;66;03m# Attempt to access the 'length' attribute of the 'nums' list and assign it to 'r'.\u001b[39;00m\n\u001b[1;32m----> 5\u001b[0m         r \u001b[38;5;241m=\u001b[39m \u001b[38;5;28mlen\u001b[39m(nums)  \u001b[38;5;66;03m# Trying to access the length attribute\u001b[39;00m\n\u001b[0;32m      6\u001b[0m         \u001b[38;5;66;03m# Print the length of the list 'nums'.\u001b[39;00m\n\u001b[0;32m      7\u001b[0m         \u001b[38;5;28mprint\u001b[39m(\u001b[38;5;124m\"\u001b[39m\u001b[38;5;124mLength of the list:\u001b[39m\u001b[38;5;124m\"\u001b[39m, r)\n",
      "\u001b[1;31mTypeError\u001b[0m: object of type 'int' has no len()"
     ]
    }
   ],
   "source": [
    "# Define a function named 'test_list_operation' that takes 'nums' as a parameter.\n",
    "def test_list_operation(nums):\n",
    "    try:\n",
    "        # Attempt to access the 'length' attribute of the 'nums' list and assign it to 'r'.\n",
    "        r = len(nums)  # Trying to access the length attribute\n",
    "        # Print the length of the list 'nums'.\n",
    "        print(\"Length of the list:\", r)\n",
    "    except AttributeError:\n",
    "        # Handle the exception if an AttributeError occurs when attempting to access the 'length' attribute.\n",
    "        print(\"Error: The list does not have a 'length' attribute.\")\n",
    "\n",
    "# Create a list 'nums' containing integer values.\n",
    "nums = 5\n",
    "# Call the 'test_list_operation' function with the 'nums' list as a parameter to check for the 'length' attribute.\n",
    "test_list_operation(nums)"
   ]
  },
  {
   "cell_type": "code",
   "execution_count": null,
   "id": "b7933d79",
   "metadata": {},
   "outputs": [],
   "source": []
  }
 ],
 "metadata": {
  "kernelspec": {
   "display_name": "Python 3 (ipykernel)",
   "language": "python",
   "name": "python3"
  },
  "language_info": {
   "codemirror_mode": {
    "name": "ipython",
    "version": 3
   },
   "file_extension": ".py",
   "mimetype": "text/x-python",
   "name": "python",
   "nbconvert_exporter": "python",
   "pygments_lexer": "ipython3",
   "version": "3.11.5"
  }
 },
 "nbformat": 4,
 "nbformat_minor": 5
}
